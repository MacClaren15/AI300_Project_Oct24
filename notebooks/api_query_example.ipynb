{
 "cells": [
  {
   "cell_type": "code",
   "execution_count": 7,
   "metadata": {},
   "outputs": [],
   "source": [
    "import requests\n",
    "\n",
    "website = 'http://localhost:5000'"
   ]
  },
  {
   "cell_type": "markdown",
   "metadata": {},
   "source": [
    "# 1 Make prediction via HTTP POST API"
   ]
  },
  {
   "cell_type": "code",
   "execution_count": 8,
   "metadata": {},
   "outputs": [
    {
     "name": "stdout",
     "output_type": "stream",
     "text": [
      "<Response [500]>\n",
      "{\n",
      "  \"success\": false\n",
      "}\n",
      "\n"
     ]
    }
   ],
   "source": [
    "\n",
    "url = f'{website}/api/predict'\n",
    "model_inputs = {\n",
    "    \"age\": 24,\n",
    "    \"gender\": \"Female\",\n",
    "    \"married\": \"Yes\",\n",
    "    \"senior_citizen\": \"Yes\",\n",
    "    \"has_internet_service\": \"Yes\",\n",
    "    \"internet_type\": \"Two Year\",\n",
    "    \"has_unlimited_data\": \"Yes\",\n",
    "    \"has_multiple_lines\":\"Yes\",\n",
    "    \"contract_type\":\"Fibre Optic\"\n",
    "}\n",
    "\n",
    "response = requests.post(url, json = model_inputs)\n",
    "print(response)  # 200: OK/Success, 400: Bad Request, 500: Internal Server Error\n",
    "print(response.text)\n"
   ]
  }
 ],
 "metadata": {
  "kernelspec": {
   "display_name": "Python 3 (ipykernel)",
   "language": "python",
   "name": "python3"
  },
  "language_info": {
   "codemirror_mode": {
    "name": "ipython",
    "version": 3
   },
   "file_extension": ".py",
   "mimetype": "text/x-python",
   "name": "python",
   "nbconvert_exporter": "python",
   "pygments_lexer": "ipython3",
   "version": "3.12.0"
  }
 },
 "nbformat": 4,
 "nbformat_minor": 2
}
